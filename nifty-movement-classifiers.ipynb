{
 "cells": [
  {
   "cell_type": "code",
   "execution_count": 1,
   "id": "initial_id",
   "metadata": {
    "collapsed": true,
    "ExecuteTime": {
     "end_time": "2024-06-13T05:44:13.353787Z",
     "start_time": "2024-06-13T05:44:12.044482Z"
    }
   },
   "outputs": [],
   "source": [
    "from torch.utils.data import DataLoader\n",
    "import torch.nn as nn\n",
    "\n",
    "from trading import *"
   ]
  },
  {
   "cell_type": "code",
   "execution_count": 2,
   "outputs": [],
   "source": [
    "loss = nn.L1Loss()"
   ],
   "metadata": {
    "collapsed": false,
    "ExecuteTime": {
     "end_time": "2024-06-13T05:44:13.364685Z",
     "start_time": "2024-06-13T05:44:13.354890Z"
    }
   },
   "id": "6edcf78ae97e569c"
  },
  {
   "cell_type": "code",
   "execution_count": 5,
   "outputs": [
    {
     "data": {
      "text/plain": "                                   High           Low         Close  \\\nDate                                                                  \n2007-09-17 00:00:00+05:30   4549.049805   4482.850098   4494.649902   \n2007-09-18 00:00:00+05:30   4551.799805   4481.549805   4546.200195   \n2007-09-19 00:00:00+05:30   4739.000000   4550.250000   4732.350098   \n2007-09-20 00:00:00+05:30   4760.850098   4721.149902   4747.549805   \n2007-09-21 00:00:00+05:30   4855.700195   4733.700195   4837.549805   \n...                                 ...           ...           ...   \n2024-06-03 00:00:00+05:30  23338.699219  23062.300781  23263.900391   \n2024-06-04 00:00:00+05:30  23179.500000  21281.449219  21884.500000   \n2024-06-05 00:00:00+05:30  22670.400391  21791.949219  22620.349609   \n2024-06-06 00:00:00+05:30  22910.150391  22642.599609  22821.400391   \n2024-06-07 00:00:00+05:30  23320.199219  22789.050781  23290.150391   \n\n                             Prev Close  \nDate                                     \n2007-09-17 00:00:00+05:30           NaN  \n2007-09-18 00:00:00+05:30   4494.649902  \n2007-09-19 00:00:00+05:30   4546.200195  \n2007-09-20 00:00:00+05:30   4732.350098  \n2007-09-21 00:00:00+05:30   4747.549805  \n...                                 ...  \n2024-06-03 00:00:00+05:30  22530.699219  \n2024-06-04 00:00:00+05:30  23263.900391  \n2024-06-05 00:00:00+05:30  21884.500000  \n2024-06-06 00:00:00+05:30  22620.349609  \n2024-06-07 00:00:00+05:30  22821.400391  \n\n[4098 rows x 4 columns]",
      "text/html": "<div>\n<style scoped>\n    .dataframe tbody tr th:only-of-type {\n        vertical-align: middle;\n    }\n\n    .dataframe tbody tr th {\n        vertical-align: top;\n    }\n\n    .dataframe thead th {\n        text-align: right;\n    }\n</style>\n<table border=\"1\" class=\"dataframe\">\n  <thead>\n    <tr style=\"text-align: right;\">\n      <th></th>\n      <th>High</th>\n      <th>Low</th>\n      <th>Close</th>\n      <th>Prev Close</th>\n    </tr>\n    <tr>\n      <th>Date</th>\n      <th></th>\n      <th></th>\n      <th></th>\n      <th></th>\n    </tr>\n  </thead>\n  <tbody>\n    <tr>\n      <th>2007-09-17 00:00:00+05:30</th>\n      <td>4549.049805</td>\n      <td>4482.850098</td>\n      <td>4494.649902</td>\n      <td>NaN</td>\n    </tr>\n    <tr>\n      <th>2007-09-18 00:00:00+05:30</th>\n      <td>4551.799805</td>\n      <td>4481.549805</td>\n      <td>4546.200195</td>\n      <td>4494.649902</td>\n    </tr>\n    <tr>\n      <th>2007-09-19 00:00:00+05:30</th>\n      <td>4739.000000</td>\n      <td>4550.250000</td>\n      <td>4732.350098</td>\n      <td>4546.200195</td>\n    </tr>\n    <tr>\n      <th>2007-09-20 00:00:00+05:30</th>\n      <td>4760.850098</td>\n      <td>4721.149902</td>\n      <td>4747.549805</td>\n      <td>4732.350098</td>\n    </tr>\n    <tr>\n      <th>2007-09-21 00:00:00+05:30</th>\n      <td>4855.700195</td>\n      <td>4733.700195</td>\n      <td>4837.549805</td>\n      <td>4747.549805</td>\n    </tr>\n    <tr>\n      <th>...</th>\n      <td>...</td>\n      <td>...</td>\n      <td>...</td>\n      <td>...</td>\n    </tr>\n    <tr>\n      <th>2024-06-03 00:00:00+05:30</th>\n      <td>23338.699219</td>\n      <td>23062.300781</td>\n      <td>23263.900391</td>\n      <td>22530.699219</td>\n    </tr>\n    <tr>\n      <th>2024-06-04 00:00:00+05:30</th>\n      <td>23179.500000</td>\n      <td>21281.449219</td>\n      <td>21884.500000</td>\n      <td>23263.900391</td>\n    </tr>\n    <tr>\n      <th>2024-06-05 00:00:00+05:30</th>\n      <td>22670.400391</td>\n      <td>21791.949219</td>\n      <td>22620.349609</td>\n      <td>21884.500000</td>\n    </tr>\n    <tr>\n      <th>2024-06-06 00:00:00+05:30</th>\n      <td>22910.150391</td>\n      <td>22642.599609</td>\n      <td>22821.400391</td>\n      <td>22620.349609</td>\n    </tr>\n    <tr>\n      <th>2024-06-07 00:00:00+05:30</th>\n      <td>23320.199219</td>\n      <td>22789.050781</td>\n      <td>23290.150391</td>\n      <td>22821.400391</td>\n    </tr>\n  </tbody>\n</table>\n<p>4098 rows × 4 columns</p>\n</div>"
     },
     "execution_count": 5,
     "metadata": {},
     "output_type": "execute_result"
    }
   ],
   "source": [
    "NIFTY = YTicker(\"^NSEI\")\n",
    "data = NIFTY.history(period=periods.max, interval=intervals.day)[[\"High\", \"Low\", \"Close\", \"Prev Close\"]]\n",
    "data"
   ],
   "metadata": {
    "collapsed": false,
    "ExecuteTime": {
     "end_time": "2024-06-13T05:45:56.799939Z",
     "start_time": "2024-06-13T05:45:56.768768Z"
    }
   },
   "id": "28db666369d3a3"
  },
  {
   "cell_type": "code",
   "execution_count": 3,
   "outputs": [
    {
     "name": "stdout",
     "output_type": "stream",
     "text": [
      "\n",
      "Test Error:\n",
      "    Accuracy: 53.3%\n",
      "    Avg loss: 0.467415\n",
      "    Correct: 2182/4097\n"
     ]
    }
   ],
   "source": [
    "dataset = models.TickerUpDownDataset(data, lookahead=1)\n",
    "dataloader = DataLoader(dataset, batch_size=len(dataset))\n",
    "\n",
    "model = models.UpClassifier()\n",
    "tester = models.Backtest(model, dataloader, loss)\n",
    "tester.test()"
   ],
   "metadata": {
    "collapsed": false,
    "ExecuteTime": {
     "end_time": "2024-06-13T05:26:10.528137Z",
     "start_time": "2024-06-13T05:26:10.441963Z"
    }
   },
   "id": "7a0cf2e857f43d66"
  },
  {
   "cell_type": "code",
   "execution_count": 4,
   "outputs": [],
   "source": [
    "data[\"RSI\"] = discretize_bin(RSIIndicator()(data))\n",
    "data[\"SMA\"] = discretize_bool(SMAIndicator(window=12)(data) > SMAIndicator(window=30)(data))\n",
    "data[\"AO\"] = discretize_bin(AwesomeOscillatorIndicator()(data))\n",
    "data[\"Up\"] = discretize_bool(data[\"Close\"] > data[\"Prev Close\"])\n",
    "\n",
    "del data[\"High\"], data[\"Low\"], data[\"Prev Close\"]\n",
    "data.dropna(inplace=True)"
   ],
   "metadata": {
    "collapsed": false,
    "ExecuteTime": {
     "end_time": "2024-06-13T05:26:12.300066Z",
     "start_time": "2024-06-13T05:26:12.290524Z"
    }
   },
   "id": "86b423e2b6dde1de"
  },
  {
   "cell_type": "code",
   "execution_count": 5,
   "outputs": [
    {
     "name": "stdout",
     "output_type": "stream",
     "text": [
      "\n",
      "Test Error:\n",
      "    Accuracy: 56.2%\n",
      "    Avg loss: 0.438484\n",
      "    Correct: 2282/4064\n"
     ]
    }
   ],
   "source": [
    "dataset = models.TickerUpDownDataset(data, lookahead=1)\n",
    "dataloader = DataLoader(dataset, batch_size=len(dataset))\n",
    "\n",
    "model = models.BakedMarkovClassifier(dataset)\n",
    "tester = models.Backtest(model, dataloader, loss)\n",
    "tester.test()"
   ],
   "metadata": {
    "collapsed": false,
    "ExecuteTime": {
     "end_time": "2024-06-13T05:26:13.541933Z",
     "start_time": "2024-06-13T05:26:13.467999Z"
    }
   },
   "id": "774d2f9e772cad6a"
  },
  {
   "cell_type": "code",
   "execution_count": 23,
   "outputs": [
    {
     "name": "stdout",
     "output_type": "stream",
     "text": [
      "\n",
      "Test Error:\n",
      "    Accuracy: 55.3%\n",
      "    Avg loss: 0.447343\n",
      "    Correct: 1123/2032\n"
     ]
    }
   ],
   "source": [
    "train = data.sample(frac=0.5)\n",
    "test = data.drop(train.index).reset_index(drop=True)\n",
    "\n",
    "train_dataset = models.TickerUpDownDataset(train, lookahead=1)\n",
    "test_dataset = models.TickerUpDownDataset(test, lookahead=1)\n",
    "\n",
    "model = models.BakedMarkovClassifier(train_dataset)\n",
    "dataloader = DataLoader(test_dataset, batch_size=len(test))\n",
    "\n",
    "tester = models.Backtest(model, dataloader, loss)\n",
    "tester.test()"
   ],
   "metadata": {
    "collapsed": false,
    "ExecuteTime": {
     "end_time": "2024-06-13T05:30:54.581334Z",
     "start_time": "2024-06-13T05:30:54.553555Z"
    }
   },
   "id": "cfade0cd38b56711"
  }
 ],
 "metadata": {
  "kernelspec": {
   "display_name": "Python 3",
   "language": "python",
   "name": "python3"
  },
  "language_info": {
   "codemirror_mode": {
    "name": "ipython",
    "version": 2
   },
   "file_extension": ".py",
   "mimetype": "text/x-python",
   "name": "python",
   "nbconvert_exporter": "python",
   "pygments_lexer": "ipython2",
   "version": "2.7.6"
  }
 },
 "nbformat": 4,
 "nbformat_minor": 5
}
