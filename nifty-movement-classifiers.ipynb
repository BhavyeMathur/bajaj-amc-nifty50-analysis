{
 "cells": [
  {
   "cell_type": "code",
   "execution_count": 1,
   "id": "initial_id",
   "metadata": {
    "collapsed": true,
    "ExecuteTime": {
     "end_time": "2024-06-12T10:49:35.773938Z",
     "start_time": "2024-06-12T10:49:34.478650Z"
    }
   },
   "outputs": [],
   "source": [
    "from torch.utils.data import DataLoader\n",
    "import torch.nn as nn\n",
    "\n",
    "from trading import *"
   ]
  },
  {
   "cell_type": "code",
   "execution_count": 3,
   "outputs": [
    {
     "name": "stdout",
     "output_type": "stream",
     "text": [
      "Test Error:\n",
      "    Accuracy: 55.4%\n",
      "    Avg loss: 0.445705\n",
      "    Correct: 684/1234\n"
     ]
    }
   ],
   "source": [
    "NIFTY = YTicker(\"^NSEI\")\n",
    "\n",
    "data = models.TickerUpDownDataset(NIFTY, period=periods.years5, lookahead=1, x=())\n",
    "dataloader = DataLoader(data)\n",
    "\n",
    "model = models.UpClassifier()\n",
    "tester = models.Backtest(model, dataloader, nn.L1Loss())\n",
    "tester.test()"
   ],
   "metadata": {
    "collapsed": false,
    "ExecuteTime": {
     "end_time": "2024-06-12T10:49:48.133981Z",
     "start_time": "2024-06-12T10:49:46.556433Z"
    }
   },
   "id": "7a0cf2e857f43d66"
  }
 ],
 "metadata": {
  "kernelspec": {
   "display_name": "Python 3",
   "language": "python",
   "name": "python3"
  },
  "language_info": {
   "codemirror_mode": {
    "name": "ipython",
    "version": 2
   },
   "file_extension": ".py",
   "mimetype": "text/x-python",
   "name": "python",
   "nbconvert_exporter": "python",
   "pygments_lexer": "ipython2",
   "version": "2.7.6"
  }
 },
 "nbformat": 4,
 "nbformat_minor": 5
}
