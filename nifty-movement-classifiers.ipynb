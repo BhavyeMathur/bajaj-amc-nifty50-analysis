{
 "cells": [
  {
   "cell_type": "code",
   "execution_count": 1,
   "id": "initial_id",
   "metadata": {
    "collapsed": true,
    "ExecuteTime": {
     "end_time": "2024-06-08T13:00:13.209583Z",
     "start_time": "2024-06-08T13:00:11.930242Z"
    }
   },
   "outputs": [],
   "source": [
    "from torch.utils.data import DataLoader\n",
    "import torch.nn as nn\n",
    "\n",
    "from trading import *"
   ]
  },
  {
   "cell_type": "code",
   "execution_count": 6,
   "outputs": [
    {
     "name": "stdout",
     "output_type": "stream",
     "text": [
      "Test Error: \n",
      " Accuracy: 58.3%, Avg loss: 0.417476 \n"
     ]
    }
   ],
   "source": [
    "NIFTY = YTicker(\"^NSEI\")\n",
    "\n",
    "data = models.TickerUpDownDataset(NIFTY, period=periods.ytd, lookahead=3, x=())\n",
    "dataloader = DataLoader(data)\n",
    "\n",
    "model = models.UpClassifier()\n",
    "tester = models.Backtest(model, dataloader, nn.L1Loss())\n",
    "tester.test()"
   ],
   "metadata": {
    "collapsed": false,
    "ExecuteTime": {
     "end_time": "2024-06-08T13:07:34.728786Z",
     "start_time": "2024-06-08T13:07:34.602435Z"
    }
   },
   "id": "7a0cf2e857f43d66"
  }
 ],
 "metadata": {
  "kernelspec": {
   "display_name": "Python 3",
   "language": "python",
   "name": "python3"
  },
  "language_info": {
   "codemirror_mode": {
    "name": "ipython",
    "version": 2
   },
   "file_extension": ".py",
   "mimetype": "text/x-python",
   "name": "python",
   "nbconvert_exporter": "python",
   "pygments_lexer": "ipython2",
   "version": "2.7.6"
  }
 },
 "nbformat": 4,
 "nbformat_minor": 5
}
